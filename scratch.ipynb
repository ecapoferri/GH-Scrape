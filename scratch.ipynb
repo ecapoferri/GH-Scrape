{
	"cells": [
		{
			"cell_type": "code",
			"execution_count": 1,
			"metadata": {},
			"outputs": [],
			"source": [
				"# console_path = 'OUTPUT/gh_scr_MENU-CONSOLE-x7.log'\n",
				"\n",
				"# block_st = -20\n",
				"# with open(console_path, 'r') as f:\n",
				"# \tlines = f.readlines()\n",
				"\n",
				"# # Clean up lines\n",
				"# block = lines[block_st:]\n",
				"# l_num = [ i for i in range(-block_st)]\n",
				"# # dict'ize\n",
				"# jsout = {k: v for k, v in zip(l_num, block)}\n",
				"\n",
				"# print(jsout)"
			]
		},
		{
			"cell_type": "code",
			"execution_count": 2,
			"metadata": {},
			"outputs": [],
			"source": [
				"# import geopandas as gpd\n",
				"\n",
				"# gpd.read_file(\"full_area-scanpoints.hexGrid3460m_rad2000m.geojson\")\n"
			]
		},
		{
			"cell_type": "code",
			"execution_count": 3,
			"metadata": {},
			"outputs": [],
			"source": [
				"import pandas as pd\n",
				"from pandas import DataFrame as Df\n",
				"from re import search, sub\n",
				"\n",
				"dir_path = \"C:/Users/ecapo/OneDrive - greaterchathaminitiative.org/Evan_FoodLab/DataSrc/Market Analysis Source/Scraped Rest Lists/\"\n",
				"fn = \"Join addresses.xlsx\"\n",
				"exc = pd.ExcelFile(f\"{dir_path}{fn}\")\n",
				"\n",
				"df: Df = exc.parse('wash (1.a)')\n",
				"del exc\n",
				"\n",
				"df = df.drop(columns=['Unnamed: 14', 'Unnamed: 15', 'gh_index'])\n"
			]
		},
		{
			"cell_type": "code",
			"execution_count": 4,
			"metadata": {},
			"outputs": [],
			"source": [
				"\n",
				"lA = (\" RD\", \" AVE\", \" BLVD\", \" HWY\", \" CT\", \" PL\", \" PKWY\")\n",
				"rep_map = {k: v for k, v in zip(lA, tuple([f\":{i[1:]}:\" for i in lA]))}\n",
				"del lA\n",
				"rep_map.update({\"THST\": \"TH:ST:\"})\n",
				"rep_map.update({\" ST[^E]\": \":ST:\"})\n"
			]
		},
		{
			"cell_type": "code",
			"execution_count": 5,
			"metadata": {},
			"outputs": [],
			"source": [
				"def replacer(mapr: dict, astr: str):\n",
				"\tfor srch, repl in mapr.items():\n",
				"\t\tastr = sub(srch, repl, astr)\n",
				"\treturn astr\n",
				"df = df.assign(\n",
				"\tupper_addr_python1=df.upper_addr_pre.apply(lambda r: replacer(rep_map, r))\n",
				")\n"
			]
		},
		{
			"cell_type": "code",
			"execution_count": 6,
			"metadata": {},
			"outputs": [],
			"source": [
				"df.to_csv(f\"{dir_path}{fn}_python1.csv\")"
			]
		}
	],
	"metadata": {
		"interpreter": {
			"hash": "2c254f2742d143cb3671a198db565b13cd8dc4bef30b853fa90d691e64a700f4"
		},
		"kernelspec": {
			"display_name": "Python 3.9.12 ('mydevenv')",
			"language": "python",
			"name": "python3"
		},
		"language_info": {
			"codemirror_mode": {
				"name": "ipython",
				"version": 3
			},
			"file_extension": ".py",
			"mimetype": "text/x-python",
			"name": "python",
			"nbconvert_exporter": "python",
			"pygments_lexer": "ipython3",
			"version": "3.9.12"
		},
		"orig_nbformat": 4
	},
	"nbformat": 4,
	"nbformat_minor": 2
}
