{
 "cells": [
  {
   "cell_type": "code",
   "execution_count": 4,
   "metadata": {},
   "outputs": [
    {
     "name": "stdout",
     "output_type": "stream",
     "text": [
      "{0: '17:42:20 >> Somethind went wrong on menu element 95 from https://www.grubhub.com//restaurant/boston-market-1424-e-53rd-st-chicago/342589\\n', 1: '17:42:20 >> Somethind went wrong on menu element 96 from https://www.grubhub.com//restaurant/boston-market-1424-e-53rd-st-chicago/342589\\n', 2: '17:42:20 >> Somethind went wrong on menu element 97 from https://www.grubhub.com//restaurant/boston-market-1424-e-53rd-st-chicago/342589\\n', 3: '17:42:20 >> Somethind went wrong on menu element 98 from https://www.grubhub.com//restaurant/boston-market-1424-e-53rd-st-chicago/342589\\n', 4: '17:42:20 >> Somethind went wrong on menu element 99 from https://www.grubhub.com//restaurant/boston-market-1424-e-53rd-st-chicago/342589\\n', 5: '17:42:20 >> Somethind went wrong on menu element 100 from https://www.grubhub.com//restaurant/boston-market-1424-e-53rd-st-chicago/342589\\n', 6: '17:42:20 >> Somethind went wrong on menu element 101 from https://www.grubhub.com//restaurant/boston-market-1424-e-53rd-st-chicago/342589\\n', 7: '17:42:20 >> Somethind went wrong on menu element 102 from https://www.grubhub.com//restaurant/boston-market-1424-e-53rd-st-chicago/342589\\n', 8: '17:42:20 >> Somethind went wrong on menu element 103 from https://www.grubhub.com//restaurant/boston-market-1424-e-53rd-st-chicago/342589\\n', 9: '17:42:20 >> Somethind went wrong on menu element 104 from https://www.grubhub.com//restaurant/boston-market-1424-e-53rd-st-chicago/342589\\n', 10: '17:42:20 >> \\t\\tResults in this menu added to table: 57\\n', 11: '17:42:20 >> \\t\\tTotal Results now: 233231\\n', 12: '17:42:20 >> \\tRetieved details for 5168/5546:idx-5168|Boston Market|342589, ~30.78 sec.\\n', 13: '17:42:20 >> \\t\\tELAPS ~16:11:38.50\\tETRmn ~1:10:51.99\\tEst. finish: 05.21 18:53:12\\n', 14: '17:42:20 >> \\tStore list idx: 5169/5546:idx-5169|Caribbean Jerk Joint|2038944\\n', 15: '17:42:39 >> \\t\\tResults in this menu added to table: 39\\n', 16: '17:42:39 >> \\t\\tTotal Results now: 233270\\n', 17: '17:42:39 >> \\tRetieved details for 5169/5546:idx-5169|Caribbean Jerk Joint|2038944, ~19.19 sec.\\n', 18: '17:42:39 >> \\t\\tELAPS ~16:11:57.69\\tETRmn ~1:10:41.28\\tEst. finish: 05.21 18:53:20\\n', 19: '17:42:39 >> \\tStore list idx: 5170/5546:idx-5170|De Rice Asian Cuisine|60281\\n'}\n"
     ]
    }
   ],
   "source": [
    "console_path = 'OUTPUT/gh_scr_MENU-CONSOLE-x7.log'\n",
    "\n",
    "block_st = -20\n",
    "with open(console_path, 'r') as f:\n",
    "    lines = f.readlines()\n",
    "\n",
    "# Clean up lines\n",
    "block = lines[block_st:]\n",
    "l_num = [ i for i in range(-block_st)]\n",
    "# dict'ize\n",
    "jsout = {k: v for k, v in zip(l_num, block)}\n",
    "\n",
    "print(jsout)"
   ]
  }
 ],
 "metadata": {
  "interpreter": {
   "hash": "c154ca9149354f84ea62c1b6fdf41732deef9b88cda1715706eb097770687ee2"
  },
  "kernelspec": {
   "display_name": "Python 3.8.13 ('mydevenv')",
   "language": "python",
   "name": "python3"
  },
  "language_info": {
   "codemirror_mode": {
    "name": "ipython",
    "version": 3
   },
   "file_extension": ".py",
   "mimetype": "text/x-python",
   "name": "python",
   "nbconvert_exporter": "python",
   "pygments_lexer": "ipython3",
   "version": "3.8.13"
  },
  "orig_nbformat": 4
 },
 "nbformat": 4,
 "nbformat_minor": 2
}
